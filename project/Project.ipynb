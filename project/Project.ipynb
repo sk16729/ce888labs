{
 "cells": [
  {
   "cell_type": "code",
   "execution_count": 8,
   "metadata": {
    "collapsed": false
   },
   "outputs": [],
   "source": [
    "import numpy as np\n",
    "import matplotlib.pyplot as plt\n",
    "import glob\n",
    "import pandas as pd"
   ]
  },
  {
   "cell_type": "code",
   "execution_count": 84,
   "metadata": {
    "collapsed": false
   },
   "outputs": [
    {
     "name": "stdout",
     "output_type": "stream",
     "text": [
      "(349, 2) pair0002.txt\n",
      "(349, 2) pair0003.txt\n",
      "(349, 2) pair0004.txt\n",
      "(4177, 2) pair0005.txt\n",
      "(4177, 2) pair0006.txt\n",
      "(4177, 2) pair0007.txt\n",
      "(4177, 2) pair0008.txt\n",
      "(4177, 2) pair0009.txt\n",
      "(4177, 2) pair0010.txt\n",
      "(4177, 2) pair0011.txt\n",
      "(5000, 2) pair0012.txt\n",
      "(392, 2) pair0013.txt\n",
      "(392, 2) pair0014.txt\n",
      "(392, 2) pair0015.txt\n",
      "(392, 2) pair0016.txt\n",
      "(5000, 2) pair0017.txt\n",
      "(314, 2) pair0018.txt\n",
      "(194, 2) pair0019.txt\n",
      "(349, 2) pair0020.txt\n",
      "(349, 2) pair0021.txt\n",
      "(450, 2) pair0022.txt\n",
      "(452, 2) pair0023.txt\n",
      "(451, 2) pair0024.txt\n",
      "(1030, 2) pair0025.txt\n",
      "(1030, 2) pair0026.txt\n",
      "(1030, 2) pair0027.txt\n",
      "(1030, 2) pair0028.txt\n",
      "(1030, 2) pair0029.txt\n",
      "(1030, 2) pair0030.txt\n",
      "(1030, 2) pair0031.txt\n",
      "(1030, 2) pair0032.txt\n",
      "(345, 2) pair0033.txt\n",
      "(345, 2) pair0034.txt\n",
      "(345, 2) pair0035.txt\n",
      "(345, 2) pair0036.txt\n",
      "(345, 2) pair0037.txt\n",
      "(757, 2) pair0038.txt\n",
      "(394, 2) pair0039.txt\n",
      "(733, 2) pair0040.txt\n",
      "(763, 2) pair0041.txt\n",
      "(9162, 1) pair0042.txt\n",
      "(10369, 2) pair0043.txt\n",
      "(10369, 2) pair0044.txt\n",
      "(10369, 2) pair0045.txt\n",
      "(10369, 2) pair0046.txt\n",
      "(254, 2) pair0047.txt\n",
      "(168, 2) pair0048.txt\n",
      "(365, 1) pair0049.txt\n",
      "(365, 1) pair0050.txt\n",
      "(365, 1) pair0051.txt\n",
      "(10226, 2) pair0052.txt\n",
      "(989, 2) pair0053.txt\n",
      "(392, 2) pair0054.txt\n",
      "(72, 2) pair0055.txt\n",
      "(192, 1) pair0056.txt\n",
      "(192, 1) pair0057.txt\n",
      "(192, 1) pair0058.txt\n",
      "(192, 1) pair0059.txt\n",
      "(192, 1) pair0060.txt\n",
      "(192, 1) pair0062.txt\n",
      "(192, 1) pair0063.txt\n",
      "(162, 1) pair0064.txt\n",
      "(1331, 2) pair0066.txt\n",
      "(1331, 2) pair0067.txt\n",
      "(498, 2) pair0068.txt\n",
      "(16382, 2) pair0069.txt\n",
      "(4499, 2) pair0070.txt\n",
      "(120, 2) pair0071.txt\n",
      "(1632, 2) pair0072.txt\n",
      "(5084, 2) pair0073.txt\n",
      "(194, 2) pair0074.txt\n",
      "(205, 2) pair0075.txt\n",
      "(347, 1) pair0076.txt\n",
      "(8401, 2) pair0077.txt\n",
      "(721, 2) pair0078.txt\n",
      "(721, 2) pair0079.txt\n",
      "(721, 2) pair0080.txt\n",
      "(349, 2) pair0001.txt\n"
     ]
    },
    {
     "data": {
      "text/plain": [
       "(78,)"
      ]
     },
     "execution_count": 84,
     "metadata": {},
     "output_type": "execute_result"
    }
   ],
   "source": [
    "names=glob.glob('*.txt')\n",
    "names\n",
    "#data=pd.read_csv('pair0001.txt',delimiter= ' ',header=None)\n",
    "data = []\n",
    "for f in names:\n",
    "    df=pd.read_csv(f,delimiter= ' ', header=None).values\n",
    "    df=df[:,0:2]\n",
    "    print df.shape, f\n",
    "   \n",
    "    data.append(df)\n",
    "\n",
    "data=np.array(data)\n",
    "data.shape\n",
    "\n",
    "#these pairs means that the file out of the parnthesis has x lines with 2 features.\n",
    "#\n",
    "#I should find the max length among this files and put zeros to others in order\n",
    "#all the files to have the same length and 2 features.\n",
    "#After this, I have to put one more column with 1 that means that these pairs \n",
    "#have a causal direction X-->Y\n",
    "\n",
    "#next step is to invert these to Y -- X and to put a third column with zeros that means\n",
    "#that these pairs don't Y causes X.\n",
    "\n"
   ]
  },
  {
   "cell_type": "code",
   "execution_count": 48,
   "metadata": {
    "collapsed": false
   },
   "outputs": [
    {
     "ename": "NameError",
     "evalue": "name 'temperature' is not defined",
     "output_type": "error",
     "traceback": [
      "\u001b[0;31m---------------------------------------------------------------------------\u001b[0m",
      "\u001b[0;31mNameError\u001b[0m                                 Traceback (most recent call last)",
      "\u001b[0;32m<ipython-input-48-9dc3262a7207>\u001b[0m in \u001b[0;36m<module>\u001b[0;34m()\u001b[0m\n\u001b[1;32m      1\u001b[0m \u001b[0;34m\u001b[0m\u001b[0m\n\u001b[1;32m      2\u001b[0m \u001b[0;34m\u001b[0m\u001b[0m\n\u001b[0;32m----> 3\u001b[0;31m \u001b[0mplt\u001b[0m\u001b[0;34m.\u001b[0m\u001b[0mplot\u001b[0m\u001b[0;34m(\u001b[0m\u001b[0mtemperature\u001b[0m\u001b[0;34m,\u001b[0m\u001b[0maltitude\u001b[0m\u001b[0;34m,\u001b[0m\u001b[0;34m'ro'\u001b[0m\u001b[0;34m)\u001b[0m\u001b[0;34m\u001b[0m\u001b[0m\n\u001b[0m\u001b[1;32m      4\u001b[0m \u001b[0mplt\u001b[0m\u001b[0;34m.\u001b[0m\u001b[0mxlabel\u001b[0m\u001b[0;34m(\u001b[0m\u001b[0;34m'temperature'\u001b[0m\u001b[0;34m)\u001b[0m\u001b[0;34m\u001b[0m\u001b[0m\n\u001b[1;32m      5\u001b[0m \u001b[0mplt\u001b[0m\u001b[0;34m.\u001b[0m\u001b[0mylabel\u001b[0m\u001b[0;34m(\u001b[0m\u001b[0;34m'altitude'\u001b[0m\u001b[0;34m)\u001b[0m\u001b[0;34m\u001b[0m\u001b[0m\n",
      "\u001b[0;31mNameError\u001b[0m: name 'temperature' is not defined"
     ]
    }
   ],
   "source": [
    "\n",
    "\n",
    "plt.plot(temperature,altitude,'ro')\n",
    "plt.xlabel('temperature')\n",
    "plt.ylabel('altitude')\n",
    "plt.show()"
   ]
  },
  {
   "cell_type": "code",
   "execution_count": 60,
   "metadata": {
    "collapsed": false
   },
   "outputs": [
    {
     "ename": "SyntaxError",
     "evalue": "invalid syntax (<ipython-input-60-573ef8d4a275>, line 1)",
     "output_type": "error",
     "traceback": [
      "\u001b[0;36m  File \u001b[0;32m\"<ipython-input-60-573ef8d4a275>\"\u001b[0;36m, line \u001b[0;32m1\u001b[0m\n\u001b[0;31m    cancer, smoking --> 0\u001b[0m\n\u001b[0m                      ^\u001b[0m\n\u001b[0;31mSyntaxError\u001b[0m\u001b[0;31m:\u001b[0m invalid syntax\n"
     ]
    }
   ],
   "source": [
    "cancer, smoking --> 0\n",
    "smoking, cancer --> 1 \n",
    "\n",
    "#X-->Y\n",
    "names=glob.glob('*.txt')\n",
    "\n"
   ]
  },
  {
   "cell_type": "code",
   "execution_count": null,
   "metadata": {
    "collapsed": true
   },
   "outputs": [],
   "source": []
  }
 ],
 "metadata": {
  "kernelspec": {
   "display_name": "Python 2",
   "language": "python",
   "name": "python2"
  },
  "language_info": {
   "codemirror_mode": {
    "name": "ipython",
    "version": 2
   },
   "file_extension": ".py",
   "mimetype": "text/x-python",
   "name": "python",
   "nbconvert_exporter": "python",
   "pygments_lexer": "ipython2",
   "version": "2.7.12"
  }
 },
 "nbformat": 4,
 "nbformat_minor": 2
}
